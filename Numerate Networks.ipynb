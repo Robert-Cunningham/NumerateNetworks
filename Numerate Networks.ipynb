{
 "cells": [
  {
   "cell_type": "code",
   "execution_count": 3,
   "metadata": {},
   "outputs": [],
   "source": [
    "import numpy as np"
   ]
  },
  {
   "cell_type": "code",
   "execution_count": 26,
   "metadata": {},
   "outputs": [],
   "source": [
    "import torch.nn as nn"
   ]
  },
  {
   "cell_type": "code",
   "execution_count": 86,
   "metadata": {},
   "outputs": [],
   "source": [
    "import torch.utils.data"
   ]
  },
  {
   "cell_type": "code",
   "execution_count": 117,
   "metadata": {},
   "outputs": [],
   "source": [
    "import torchtext"
   ]
  },
  {
   "cell_type": "code",
   "execution_count": 7,
   "metadata": {},
   "outputs": [],
   "source": [
    "def numbers(max=10):\n",
    "    return np.random.choice(max)"
   ]
  },
  {
   "cell_type": "code",
   "execution_count": 66,
   "metadata": {},
   "outputs": [],
   "source": [
    "mult = lambda x,y:{'input': str(x) + \"*\" + str(y), 'output': str(x * y)}"
   ]
  },
  {
   "cell_type": "code",
   "execution_count": 67,
   "metadata": {},
   "outputs": [],
   "source": [
    "add = lambda x,y:{'input': str(x) + \"+\" + str(y), 'output': str(x + y)}"
   ]
  },
  {
   "cell_type": "code",
   "execution_count": 68,
   "metadata": {},
   "outputs": [],
   "source": [
    "div = lambda x,y:{'input': str(x) + '/' + str(y), 'output': str(x/y)}"
   ]
  },
  {
   "cell_type": "code",
   "execution_count": 69,
   "metadata": {},
   "outputs": [],
   "source": [
    "symbols = \"0123456789*+/\""
   ]
  },
  {
   "cell_type": "code",
   "execution_count": 70,
   "metadata": {},
   "outputs": [],
   "source": [
    "symbol_dict = {symbols[i]:i for i in range(len(symbols))}"
   ]
  },
  {
   "cell_type": "code",
   "execution_count": 71,
   "metadata": {},
   "outputs": [],
   "source": [
    "demo = mult(numbers(), numbers())"
   ]
  },
  {
   "cell_type": "code",
   "execution_count": 72,
   "metadata": {},
   "outputs": [],
   "source": [
    "ops = [mult, div, add]"
   ]
  },
  {
   "cell_type": "code",
   "execution_count": 73,
   "metadata": {},
   "outputs": [
    {
     "data": {
      "text/plain": [
       "tensor([ 0.])"
      ]
     },
     "execution_count": 73,
     "metadata": {},
     "output_type": "execute_result"
    }
   ],
   "source": [
    "nn.ReLU().cuda().forward(torch.Tensor([-2]))"
   ]
  },
  {
   "cell_type": "code",
   "execution_count": 78,
   "metadata": {},
   "outputs": [],
   "source": [
    "def pair_to_tensor(pair):\n",
    "    return torch.Tensor([symbol_dict[x] for x in pair['input']]), torch.Tensor([symbol_dict[x] for x in pair['output']])"
   ]
  },
  {
   "cell_type": "code",
   "execution_count": 79,
   "metadata": {},
   "outputs": [],
   "source": [
    "class NumericalDataset:\n",
    "    def __init__(self, length):\n",
    "        self.length = length\n",
    "    \n",
    "    def __getitem__(self,i):\n",
    "        return pair_to_tensor(mult(numbers(), numbers()))\n",
    "    \n",
    "    def __len__(self):\n",
    "        return self.length"
   ]
  },
  {
   "cell_type": "code",
   "execution_count": 80,
   "metadata": {},
   "outputs": [],
   "source": [
    "nd = NumericalDataset(100)"
   ]
  },
  {
   "cell_type": "code",
   "execution_count": 92,
   "metadata": {},
   "outputs": [
    {
     "data": {
      "text/plain": [
       "(tensor([  4.,  10.,   9.]), tensor([ 3.,  6.]))"
      ]
     },
     "execution_count": 92,
     "metadata": {},
     "output_type": "execute_result"
    }
   ],
   "source": [
    "nd[1]"
   ]
  },
  {
   "cell_type": "code",
   "execution_count": 113,
   "metadata": {},
   "outputs": [],
   "source": [
    "def custom_collate(all):\n",
    "    xs = [x[0] for x in all]\n",
    "    ys = [y[1] for y in all]\n",
    "    \n",
    "    max_x = max([len(a) for a in xs])\n",
    "    max_y = max([len(a) for a in xs])\n",
    "    xs_tensor = torch.stack([torch.zeros()])\n",
    "    \n",
    "    print(xs, ys)"
   ]
  },
  {
   "cell_type": "code",
   "execution_count": 114,
   "metadata": {},
   "outputs": [],
   "source": [
    "dl = torch.utils.data.DataLoader(nd, batch_size=10, collate_fn=custom_collate)"
   ]
  },
  {
   "cell_type": "code",
   "execution_count": 115,
   "metadata": {},
   "outputs": [
    {
     "name": "stdout",
     "output_type": "stream",
     "text": [
      "[tensor([  5.,  10.,   7.]), tensor([  1.,  10.,   2.]), tensor([  9.,  10.,   8.]), tensor([  9.,  10.,   9.]), tensor([  8.,  10.,   6.]), tensor([  6.,  10.,   8.]), tensor([  2.,  10.,   9.]), tensor([  8.,  10.,   1.]), tensor([  4.,  10.,   2.]), tensor([  2.,  10.,   5.])] [tensor([ 3.,  5.]), tensor([ 2.]), tensor([ 7.,  2.]), tensor([ 8.,  1.]), tensor([ 4.,  8.]), tensor([ 4.,  8.]), tensor([ 1.,  8.]), tensor([ 8.]), tensor([ 8.]), tensor([ 1.,  0.])]\n"
     ]
    }
   ],
   "source": [
    "next(iter(dl))"
   ]
  },
  {
   "cell_type": "code",
   "execution_count": null,
   "metadata": {},
   "outputs": [],
   "source": []
  }
 ],
 "metadata": {
  "kernelspec": {
   "display_name": "Python 3",
   "language": "python",
   "name": "python3"
  },
  "language_info": {
   "codemirror_mode": {
    "name": "ipython",
    "version": 3
   },
   "file_extension": ".py",
   "mimetype": "text/x-python",
   "name": "python",
   "nbconvert_exporter": "python",
   "pygments_lexer": "ipython3",
   "version": "3.6.5"
  }
 },
 "nbformat": 4,
 "nbformat_minor": 2
}
